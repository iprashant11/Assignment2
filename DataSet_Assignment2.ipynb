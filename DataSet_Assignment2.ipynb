{
 "cells": [
  {
   "cell_type": "code",
   "execution_count": 7,
   "id": "904a2988-c709-4793-9fe5-2de5f51ca052",
   "metadata": {},
   "outputs": [],
   "source": [
    "import pandas as pd\n",
    "\n",
    "# Read the CSV file\n",
    "data = pd.read_csv('cricket(1).csv')"
   ]
  },
  {
   "cell_type": "code",
   "execution_count": 9,
   "id": "b5b47730-df1a-4b84-9cb3-58e20204a169",
   "metadata": {},
   "outputs": [
    {
     "data": {
      "text/html": [
       "<div>\n",
       "<style scoped>\n",
       "    .dataframe tbody tr th:only-of-type {\n",
       "        vertical-align: middle;\n",
       "    }\n",
       "\n",
       "    .dataframe tbody tr th {\n",
       "        vertical-align: top;\n",
       "    }\n",
       "\n",
       "    .dataframe thead th {\n",
       "        text-align: right;\n",
       "    }\n",
       "</style>\n",
       "<table border=\"1\" class=\"dataframe\">\n",
       "  <thead>\n",
       "    <tr style=\"text-align: right;\">\n",
       "      <th></th>\n",
       "      <th>sr.no</th>\n",
       "      <th>name</th>\n",
       "      <th>matches</th>\n",
       "      <th>runs</th>\n",
       "      <th>catches</th>\n",
       "      <th>wickets</th>\n",
       "      <th>stumpings</th>\n",
       "    </tr>\n",
       "  </thead>\n",
       "  <tbody>\n",
       "    <tr>\n",
       "      <th>0</th>\n",
       "      <td>1</td>\n",
       "      <td>Anil Dalpat</td>\n",
       "      <td>122</td>\n",
       "      <td>6755</td>\n",
       "      <td>56</td>\n",
       "      <td>12</td>\n",
       "      <td>0</td>\n",
       "    </tr>\n",
       "    <tr>\n",
       "      <th>1</th>\n",
       "      <td>2</td>\n",
       "      <td>Rohan Kanhay</td>\n",
       "      <td>144</td>\n",
       "      <td>1256</td>\n",
       "      <td>76</td>\n",
       "      <td>178</td>\n",
       "      <td>0</td>\n",
       "    </tr>\n",
       "    <tr>\n",
       "      <th>2</th>\n",
       "      <td>3</td>\n",
       "      <td>Avdhoot Dighe</td>\n",
       "      <td>265</td>\n",
       "      <td>8954</td>\n",
       "      <td>120</td>\n",
       "      <td>0</td>\n",
       "      <td>0</td>\n",
       "    </tr>\n",
       "    <tr>\n",
       "      <th>3</th>\n",
       "      <td>4</td>\n",
       "      <td>Bahubali</td>\n",
       "      <td>10</td>\n",
       "      <td>756</td>\n",
       "      <td>6</td>\n",
       "      <td>11</td>\n",
       "      <td>3</td>\n",
       "    </tr>\n",
       "    <tr>\n",
       "      <th>4</th>\n",
       "      <td>5</td>\n",
       "      <td>Leeladhar</td>\n",
       "      <td>234</td>\n",
       "      <td>2866</td>\n",
       "      <td>105</td>\n",
       "      <td>376</td>\n",
       "      <td>0</td>\n",
       "    </tr>\n",
       "    <tr>\n",
       "      <th>5</th>\n",
       "      <td>6</td>\n",
       "      <td>Pradyumna</td>\n",
       "      <td>177</td>\n",
       "      <td>5877</td>\n",
       "      <td>47</td>\n",
       "      <td>122</td>\n",
       "      <td>0</td>\n",
       "    </tr>\n",
       "    <tr>\n",
       "      <th>6</th>\n",
       "      <td>7</td>\n",
       "      <td>Dinesh Roy</td>\n",
       "      <td>211</td>\n",
       "      <td>8537</td>\n",
       "      <td>112</td>\n",
       "      <td>16</td>\n",
       "      <td>0</td>\n",
       "    </tr>\n",
       "    <tr>\n",
       "      <th>7</th>\n",
       "      <td>8</td>\n",
       "      <td>Parmeshwar</td>\n",
       "      <td>245</td>\n",
       "      <td>9466</td>\n",
       "      <td>53</td>\n",
       "      <td>0</td>\n",
       "      <td>0</td>\n",
       "    </tr>\n",
       "    <tr>\n",
       "      <th>8</th>\n",
       "      <td>9</td>\n",
       "      <td>Ali Durrani</td>\n",
       "      <td>55</td>\n",
       "      <td>2756</td>\n",
       "      <td>12</td>\n",
       "      <td>26</td>\n",
       "      <td>0</td>\n",
       "    </tr>\n",
       "    <tr>\n",
       "      <th>9</th>\n",
       "      <td>10</td>\n",
       "      <td>Litesh Singh</td>\n",
       "      <td>89</td>\n",
       "      <td>1099</td>\n",
       "      <td>46</td>\n",
       "      <td>49</td>\n",
       "      <td>0</td>\n",
       "    </tr>\n",
       "  </tbody>\n",
       "</table>\n",
       "</div>"
      ],
      "text/plain": [
       "   sr.no           name  matches  runs  catches  wickets  stumpings\n",
       "0      1    Anil Dalpat      122  6755       56       12          0\n",
       "1      2   Rohan Kanhay      144  1256       76      178          0\n",
       "2      3  Avdhoot Dighe      265  8954      120        0          0\n",
       "3      4       Bahubali       10   756        6       11          3\n",
       "4      5      Leeladhar      234  2866      105      376          0\n",
       "5      6      Pradyumna      177  5877       47      122          0\n",
       "6      7     Dinesh Roy      211  8537      112       16          0\n",
       "7      8     Parmeshwar      245  9466       53        0          0\n",
       "8      9    Ali Durrani       55  2756       12       26          0\n",
       "9     10   Litesh Singh       89  1099       46       49          0"
      ]
     },
     "execution_count": 9,
     "metadata": {},
     "output_type": "execute_result"
    }
   ],
   "source": [
    "data"
   ]
  },
  {
   "cell_type": "code",
   "execution_count": 13,
   "id": "5270de72-bcf6-4b4a-8f8e-379d17280cf0",
   "metadata": {},
   "outputs": [
    {
     "name": "stdout",
     "output_type": "stream",
     "text": [
      "            name  runs\n",
      "0    Anil Dalpat  6755\n",
      "1   Rohan Kanhay  1256\n",
      "2  Avdhoot Dighe  8954\n",
      "3       Bahubali   756\n",
      "4      Leeladhar  2866\n",
      "5      Pradyumna  5877\n",
      "6     Dinesh Roy  8537\n",
      "7     Parmeshwar  9466\n",
      "8    Ali Durrani  2756\n",
      "9   Litesh Singh  1099\n"
     ]
    }
   ],
   "source": [
    "import pandas as pd\n",
    "\n",
    "# Assuming your CSV file is named \"cricketers.csv\"\n",
    "data = pd.read_csv(\"cricket(1).csv\")\n",
    "\n",
    "# Extract the 'name' and 'runs' columns\n",
    "name_runs = data[['name', 'runs']]\n",
    "\n",
    "# Print the result\n",
    "print(name_runs)"
   ]
  },
  {
   "cell_type": "code",
   "execution_count": 15,
   "id": "edc999b3-9fe0-4860-a1bd-7ec5e54a6d04",
   "metadata": {},
   "outputs": [
    {
     "name": "stdout",
     "output_type": "stream",
     "text": [
      "Total wickets taken: 790\n"
     ]
    }
   ],
   "source": [
    "import pandas as pd\n",
    "\n",
    "# Assuming your CSV file is named \"cricketers.csv\"\n",
    "data = pd.read_csv(\"cricket(1).csv\")\n",
    "\n",
    "# Calculate the total wickets\n",
    "total_wickets = data['wickets'].sum()\n",
    "\n",
    "print(\"Total wickets taken:\", total_wickets)"
   ]
  },
  {
   "cell_type": "code",
   "execution_count": 17,
   "id": "9922da98-e4ea-4632-bd0e-fd067177da24",
   "metadata": {},
   "outputs": [
    {
     "name": "stdout",
     "output_type": "stream",
     "text": [
      "Average catches taken: 63.3\n"
     ]
    }
   ],
   "source": [
    "import pandas as pd\n",
    "\n",
    "# Assuming your CSV file is named \"cricketers.csv\"\n",
    "data = pd.read_csv(\"cricket(1).csv\")\n",
    "\n",
    "# Calculate the average catches\n",
    "average_catches = data['catches'].mean()\n",
    "\n",
    "print(\"Average catches taken:\", average_catches)"
   ]
  },
  {
   "cell_type": "code",
   "execution_count": 19,
   "id": "e1f3c996-60d1-4f7a-af73-038163a9e6f8",
   "metadata": {},
   "outputs": [
    {
     "name": "stdout",
     "output_type": "stream",
     "text": [
      "Wicketkeepers:\n",
      "3    Bahubali\n",
      "Name: name, dtype: object\n"
     ]
    }
   ],
   "source": [
    "import pandas as pd\n",
    "\n",
    "# Assuming your CSV file is named \"cricketers.csv\"\n",
    "data = pd.read_csv(\"cricket(1).csv\")\n",
    "\n",
    "# Filter for players with stumpings\n",
    "wicketkeepers = data[data['stumpings'] > 0]\n",
    "\n",
    "# Print the names of the wicketkeepers\n",
    "print(\"Wicketkeepers:\")\n",
    "print(wicketkeepers['name'])"
   ]
  },
  {
   "cell_type": "code",
   "execution_count": 21,
   "id": "8decd699-83d8-4f64-b565-e59db93a9160",
   "metadata": {},
   "outputs": [
    {
     "name": "stdout",
     "output_type": "stream",
     "text": [
      "Cricketer with the most matches: Avdhoot Dighe\n"
     ]
    }
   ],
   "source": [
    "import pandas as pd\n",
    "\n",
    "# Assuming your CSV file is named \"cricketers.csv\"\n",
    "data = pd.read_csv(\"cricket(1).csv\")\n",
    "\n",
    "# Find the cricketer with the most matches\n",
    "most_matches_player = data.loc[data['matches'].idxmax()]\n",
    "\n",
    "# Print the name of the cricketer\n",
    "print(\"Cricketer with the most matches:\", most_matches_player['name'])"
   ]
  },
  {
   "cell_type": "code",
   "execution_count": 23,
   "id": "4c31b015-6feb-4e43-b088-24a10efb0ba6",
   "metadata": {},
   "outputs": [
    {
     "name": "stdout",
     "output_type": "stream",
     "text": [
      "Average wickets for bowlers: 98.75\n"
     ]
    }
   ],
   "source": [
    "import pandas as pd\n",
    "\n",
    "# Assuming your CSV file is named \"cricketers.csv\"\n",
    "data = pd.read_csv(\"cricket(1).csv\")\n",
    "\n",
    "# Filter for bowlers (adjust the threshold as needed)\n",
    "bowlers = data[data['wickets'] >= 10]\n",
    "\n",
    "# Calculate the average wickets for bowlers\n",
    "average_wickets = bowlers['wickets'].mean()\n",
    "\n",
    "print(\"Average wickets for bowlers:\", average_wickets)"
   ]
  },
  {
   "cell_type": "code",
   "execution_count": 25,
   "id": "4cc2b23b-983d-4453-873a-77d6627f0cbc",
   "metadata": {},
   "outputs": [
    {
     "name": "stdout",
     "output_type": "stream",
     "text": [
      "Bowler with the least bowling average:\n",
      "name               Avdhoot Dighe\n",
      "bowling_average              0.0\n",
      "Name: 2, dtype: object\n"
     ]
    }
   ],
   "source": [
    "import pandas as pd\n",
    "\n",
    "# Assuming your CSV file is named \"cricketers.csv\"\n",
    "data = pd.read_csv(\"cricket(1).csv\")\n",
    "\n",
    "# Calculate bowling average (wickets per match)\n",
    "data['bowling_average'] = data['wickets'] / data['matches']\n",
    "\n",
    "# Find the bowler with the least bowling average\n",
    "bowler_with_least_average = data.loc[data['bowling_average'].idxmin()]\n",
    "\n",
    "# Print the name and bowling average\n",
    "print(\"Bowler with the least bowling average:\")\n",
    "print(bowler_with_least_average[['name', 'bowling_average']])"
   ]
  },
  {
   "cell_type": "code",
   "execution_count": 27,
   "id": "1e1d598a-dce3-499d-bbfe-18cbc853fb58",
   "metadata": {},
   "outputs": [
    {
     "name": "stdout",
     "output_type": "stream",
     "text": [
      "   sr.no          name  matches  runs  catches  wickets  stumpings  \\\n",
      "1      2  Rohan Kanhay      144  1256       76      178          0   \n",
      "3      4      Bahubali       10   756        6       11          3   \n",
      "6      7    Dinesh Roy      211  8537      112       16          0   \n",
      "9     10  Litesh Singh       89  1099       46       49          0   \n",
      "\n",
      "   catches_per_match  \n",
      "1           0.527778  \n",
      "3           0.600000  \n",
      "6           0.530806  \n",
      "9           0.516854  \n"
     ]
    }
   ],
   "source": [
    "import pandas as pd\n",
    "\n",
    "# Assuming your CSV file is named \"cricketers.csv\"\n",
    "data = pd.read_csv(\"cricket(1).csv\")\n",
    "\n",
    "# Calculate catches per match ratio\n",
    "data['catches_per_match'] = data['catches'] / data['matches']\n",
    "\n",
    "# Filter players with catches per match ratio greater than 0.5\n",
    "filtered_players = data[data['catches_per_match'] > 0.5]\n",
    "\n",
    "# Print the information about filtered players\n",
    "print(filtered_players)\n",
    "\n",
    "# Save the filtered data to a CSV file\n",
    "filtered_players.to_csv(\"filtered_players.csv\", index=False)"
   ]
  },
  {
   "cell_type": "code",
   "execution_count": 29,
   "id": "c5120674-41d2-4ab2-b4ff-421efcb6925f",
   "metadata": {},
   "outputs": [
    {
     "name": "stdout",
     "output_type": "stream",
     "text": [
      "   sr.no           name  matches  runs  catches  wickets  stumpings\n",
      "3      4       Bahubali       10   756        6       11          3\n",
      "9     10   Litesh Singh       89  1099       46       49          0\n",
      "1      2   Rohan Kanhay      144  1256       76      178          0\n",
      "8      9    Ali Durrani       55  2756       12       26          0\n",
      "4      5      Leeladhar      234  2866      105      376          0\n",
      "5      6      Pradyumna      177  5877       47      122          0\n",
      "0      1    Anil Dalpat      122  6755       56       12          0\n",
      "6      7     Dinesh Roy      211  8537      112       16          0\n",
      "2      3  Avdhoot Dighe      265  8954      120        0          0\n",
      "7      8     Parmeshwar      245  9466       53        0          0\n"
     ]
    }
   ],
   "source": [
    "import pandas as pd\n",
    "\n",
    "# Assuming your CSV file is named \"cricketers.csv\"\n",
    "data = pd.read_csv(\"cricket(1).csv\")\n",
    "\n",
    "# Sort the data by 'runs' in ascending order\n",
    "sorted_data = data.sort_values(by='runs', ascending=True)\n",
    "\n",
    "# Print the sorted data\n",
    "print(sorted_data)"
   ]
  },
  {
   "cell_type": "code",
   "execution_count": 31,
   "id": "916b471e-86ca-4383-9e9f-102719dcc5d7",
   "metadata": {},
   "outputs": [
    {
     "name": "stdout",
     "output_type": "stream",
     "text": [
      "Players with wickets greater than matches:\n",
      "1    Rohan Kanhay\n",
      "3        Bahubali\n",
      "4       Leeladhar\n",
      "Name: name, dtype: object\n"
     ]
    }
   ],
   "source": [
    "import pandas as pd\n",
    "\n",
    "# Assuming your CSV file is named \"cricketers.csv\"\n",
    "data = pd.read_csv(\"cricket(1).csv\")\n",
    "\n",
    "# Filter players with wickets greater than matches\n",
    "filtered_players = data[data['wickets'] > data['matches']]\n",
    "\n",
    "# Print the names of the filtered players\n",
    "print(\"Players with wickets greater than matches:\")\n",
    "print(filtered_players['name'])"
   ]
  },
  {
   "cell_type": "code",
   "execution_count": null,
   "id": "1251e397-621c-47f3-a08c-6c37f2d355dc",
   "metadata": {},
   "outputs": [],
   "source": []
  }
 ],
 "metadata": {
  "kernelspec": {
   "display_name": "Python 3 (ipykernel)",
   "language": "python",
   "name": "python3"
  },
  "language_info": {
   "codemirror_mode": {
    "name": "ipython",
    "version": 3
   },
   "file_extension": ".py",
   "mimetype": "text/x-python",
   "name": "python",
   "nbconvert_exporter": "python",
   "pygments_lexer": "ipython3",
   "version": "3.12.4"
  }
 },
 "nbformat": 4,
 "nbformat_minor": 5
}
